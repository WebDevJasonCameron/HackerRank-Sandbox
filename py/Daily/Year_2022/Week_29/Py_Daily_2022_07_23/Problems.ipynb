{
 "cells": [
  {
   "cell_type": "code",
   "execution_count": 1,
   "metadata": {
    "pycharm": {
     "name": "#%%\n"
    }
   },
   "outputs": [],
   "source": [
    "# PROBLEM 01\n",
    "#\n",
    "# Given an integer, n, perform the following conditional actions:\n",
    "#\n",
    "# If n is odd, print Weird\n",
    "# If n is even and in the inclusive range of 2 to 5, print Not Weird\n",
    "# If n is even and in the inclusive range of 6 to 20, print Weird\n",
    "# If n is even and greater than 20, print Not Weird\n",
    "# Input Format\n",
    "#\n",
    "# A single line containing a positive integer, n.\n",
    "#\n",
    "# Constraints\n",
    "#   1 <= n <= 100\n",
    "# Output Format\n",
    "#\n",
    "# Print Weird if the number is weird. Otherwise, print Not Weird"
   ]
  },
  {
   "cell_type": "code",
   "execution_count": 4,
   "outputs": [
    {
     "name": "stdout",
     "output_type": "stream",
     "text": [
      "Not Weird\n"
     ]
    }
   ],
   "source": [
    "#!/bin/python3\n",
    "\n",
    "import math\n",
    "import os\n",
    "import random\n",
    "import re\n",
    "import sys\n",
    "\n",
    "\n",
    "if __name__ == '__main__':\n",
    "    n = int(input().strip())\n",
    "\n",
    "    if n % 2 != 0:\n",
    "        print(\"Weird\")\n",
    "    elif 1 < n < 6:\n",
    "        print(\"Not Weird\")\n",
    "    elif 5 < n < 21:\n",
    "        print(\"Weird\")\n",
    "    elif 20 < n:\n",
    "        print(\"Not Weird\")"
   ],
   "metadata": {
    "collapsed": false,
    "pycharm": {
     "name": "#%%\n"
    }
   }
  },
  {
   "cell_type": "code",
   "execution_count": 5,
   "outputs": [],
   "source": [
    "# PROBLEM 02\n",
    "#\n",
    "# Task\n",
    "# The provided code stub reads two integers from STDIN, a and b. Add code\n",
    "# to print three lines where:\n",
    "#\n",
    "# 1. The first line contains the sum of the two numbers.\n",
    "# 2. The second line contains the difference of the two numbers\n",
    "#    (first - second).\n",
    "# 3. The third line contains the product of the two numbers."
   ],
   "metadata": {
    "collapsed": false,
    "pycharm": {
     "name": "#%%\n"
    }
   }
  },
  {
   "cell_type": "code",
   "execution_count": 6,
   "outputs": [
    {
     "name": "stdout",
     "output_type": "stream",
     "text": [
      "6\n",
      "-2\n",
      "8\n"
     ]
    }
   ],
   "source": [
    "if __name__ == '__main__':\n",
    "    a = int(input())\n",
    "    b = int(input())\n",
    "\n",
    "    print(a + b)\n",
    "    print(a - b)\n",
    "    print(a * b)\n"
   ],
   "metadata": {
    "collapsed": false,
    "pycharm": {
     "name": "#%%\n"
    }
   }
  },
  {
   "cell_type": "code",
   "execution_count": null,
   "outputs": [],
   "source": [
    "# Problem 03\n",
    "#\n",
    "#"
   ],
   "metadata": {
    "collapsed": false,
    "pycharm": {
     "name": "#%%\n"
    }
   }
  }
 ],
 "metadata": {
  "kernelspec": {
   "display_name": "Python 3 (ipykernel)",
   "language": "python",
   "name": "python3"
  },
  "language_info": {
   "codemirror_mode": {
    "name": "ipython",
    "version": 3
   },
   "file_extension": ".py",
   "mimetype": "text/x-python",
   "name": "python",
   "nbconvert_exporter": "python",
   "pygments_lexer": "ipython3",
   "version": "3.9.0"
  }
 },
 "nbformat": 4,
 "nbformat_minor": 1
}