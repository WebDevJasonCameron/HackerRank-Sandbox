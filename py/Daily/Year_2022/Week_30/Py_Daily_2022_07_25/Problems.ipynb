{
 "cells": [
  {
   "cell_type": "code",
   "execution_count": 1,
   "outputs": [],
   "source": [
    "# Problem 01\n",
    "#\n",
    "# Task\n",
    "# The provided code stub reads and integer, n, from STDIN. For all non-negative integers i < n, print i(2pwr).\n",
    "#"
   ],
   "metadata": {
    "collapsed": false,
    "pycharm": {
     "name": "#%%\n"
    }
   }
  },
  {
   "cell_type": "code",
   "execution_count": 5,
   "outputs": [
    {
     "name": "stdout",
     "output_type": "stream",
     "text": [
      "0\n",
      "1\n",
      "4\n",
      "9\n",
      "16\n"
     ]
    }
   ],
   "source": [
    "\n",
    "if __name__ == '__main__':\n",
    "    n = int(input())\n",
    "    for i in range(n):\n",
    "        print(i * i)\n",
    "        i =+ 1"
   ],
   "metadata": {
    "collapsed": false,
    "pycharm": {
     "name": "#%%\n"
    }
   }
  },
  {
   "cell_type": "code",
   "execution_count": 6,
   "outputs": [],
   "source": [
    "#   Problem 02\n",
    "#\n",
    "#   An extra day is added to the calendar almost every four years as February 29,\n",
    "#   and the day is called a leap day. It corrects the calendar for the fact that\n",
    "#   our planet takes approximately 365.25 days to orbit the sun. A leap year\n",
    "#   contains a leap day.\n",
    "#\n",
    "#   In the Gregorian calendar, three conditions are used to identify leap years:\n",
    "#       - The year can be evenly divided by 4, is a leap year, unless:\n",
    "#           -- The year can be evenly divided by 100, it is NOT a leap year, unless:\n",
    "#               --- The year is also evenly divisible by 400. Then it is a leap year.\n",
    "#\n",
    "#   This means that in the Gregorian calendar, the years 2000 and 2400 are leap years,\n",
    "#   while 1800, 1900, 2100, 2200, 2300 and 2500 are NOT leap years. Source\n",
    "#\n",
    "# Task\n",
    "#       Given a year, determine whether it is a leap year. If it is a leap year,\n",
    "#       return the Boolean True, otherwise return False.\n",
    "#\n",
    "#       Note that the code stub provided reads from STDIN and passes arguments\n",
    "#       to the is_leap function. It is only necessary to complete the is_leap function."
   ],
   "metadata": {
    "collapsed": false,
    "pycharm": {
     "name": "#%%\n"
    }
   }
  },
  {
   "cell_type": "code",
   "execution_count": 8,
   "outputs": [
    {
     "name": "stdout",
     "output_type": "stream",
     "text": [
      "2000\n",
      "True\n"
     ]
    }
   ],
   "source": [
    "def is_leap(year):\n",
    "    leap = False\n",
    "    print(year)\n",
    "\n",
    "    if year % 4 == 0:\n",
    "        if year % 100 != 0 or year % 400 == 0:\n",
    "            leap = True\n",
    "\n",
    "    return leap\n",
    "\n",
    "year = int(input())\n",
    "print(is_leap(year))"
   ],
   "metadata": {
    "collapsed": false,
    "pycharm": {
     "name": "#%%\n"
    }
   }
  },
  {
   "cell_type": "code",
   "execution_count": null,
   "outputs": [],
   "source": [],
   "metadata": {
    "collapsed": false,
    "pycharm": {
     "name": "#%%\n"
    }
   }
  }
 ],
 "metadata": {
  "kernelspec": {
   "display_name": "Python 3",
   "language": "python",
   "name": "python3"
  },
  "language_info": {
   "codemirror_mode": {
    "name": "ipython",
    "version": 2
   },
   "file_extension": ".py",
   "mimetype": "text/x-python",
   "name": "python",
   "nbconvert_exporter": "python",
   "pygments_lexer": "ipython2",
   "version": "2.7.6"
  }
 },
 "nbformat": 4,
 "nbformat_minor": 0
}